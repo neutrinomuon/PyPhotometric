{
 "cells": [
  {
   "cell_type": "markdown",
   "id": "7a5eade8",
   "metadata": {},
   "source": [
    "# PyPhotometry"
   ]
  },
  {
   "cell_type": "code",
   "execution_count": 28,
   "id": "b79e4057",
   "metadata": {},
   "outputs": [],
   "source": [
    "from PyPhotometry.flib import propfilters as pop # Original Fortran routine\n",
    "from PyPhotometry.flib import evalfilters as evf # Original Fortran routine \n",
    "from PyPhotometry      import Photometry         # Python 3\n",
    "\n",
    "import sqlalchemy"
   ]
  },
  {
   "cell_type": "code",
   "execution_count": 29,
   "id": "479f9d76",
   "metadata": {},
   "outputs": [
    {
     "name": "stdout",
     "output_type": "stream",
     "text": [
      "... sqlalchemy version: 1.4.32\n",
      "[read_filters]\n",
      "... Reading filters\n",
      "... Verified: 0 entries in filters.db\n",
      "... Start reading filters database\n",
      "... Need to construct filters database\n",
      "[ReadFilters]\n",
      "... Reading Filters \n",
      "... arq_fil1: ListFilters.txt\n",
      "... Filter List does not exist\n"
     ]
    },
    {
     "ename": "UnboundLocalError",
     "evalue": "local variable 'o_filter' referenced before assignment",
     "output_type": "error",
     "traceback": [
      "\u001b[0;31m---------------------------------------------------------------------------\u001b[0m",
      "\u001b[0;31mValueError\u001b[0m                                Traceback (most recent call last)",
      "File \u001b[0;32m~/anaconda3/lib/python3.9/site-packages/PyPhotometry/Photometry.py:432\u001b[0m, in \u001b[0;36mcreate_database_filters.read_filters\u001b[0;34m(self, path_data, N_lambda, verbose)\u001b[0m\n\u001b[1;32m    431\u001b[0m     \u001b[38;5;28;01melse\u001b[39;00m:\n\u001b[0;32m--> 432\u001b[0m         \u001b[38;5;28;01mraise\u001b[39;00m \u001b[38;5;167;01mValueError\u001b[39;00m(\u001b[38;5;124m\"\u001b[39m\u001b[38;5;124mForce exception\u001b[39m\u001b[38;5;124m\"\u001b[39m)\n\u001b[1;32m    434\u001b[0m \u001b[38;5;28;01mexcept\u001b[39;00m:\n",
      "\u001b[0;31mValueError\u001b[0m: Force exception",
      "\nDuring handling of the above exception, another exception occurred:\n",
      "\u001b[0;31mFileNotFoundError\u001b[0m                         Traceback (most recent call last)",
      "File \u001b[0;32m~/anaconda3/lib/python3.9/site-packages/PyPhotometry/Photometry.py:936\u001b[0m, in \u001b[0;36mFilters.ReadFilters\u001b[0;34m(self, path, arq_fil1, N_lambda, verbose)\u001b[0m\n\u001b[1;32m    935\u001b[0m \u001b[38;5;28;01mtry\u001b[39;00m:\n\u001b[0;32m--> 936\u001b[0m     o_filter \u001b[38;5;241m=\u001b[39m \u001b[38;5;28;43mopen\u001b[39;49m\u001b[43m(\u001b[49m\u001b[43mpath\u001b[49m\u001b[43m \u001b[49m\u001b[38;5;241;43m+\u001b[39;49m\u001b[43m \u001b[49m\u001b[43marq_fil1\u001b[49m\u001b[43m,\u001b[49m\u001b[38;5;124;43m'\u001b[39;49m\u001b[38;5;124;43mr\u001b[39;49m\u001b[38;5;124;43m'\u001b[39;49m\u001b[43m)\u001b[49m\n\u001b[1;32m    937\u001b[0m \u001b[38;5;28;01mexcept\u001b[39;00m:\n",
      "\u001b[0;31mFileNotFoundError\u001b[0m: [Errno 2] No such file or directory: '../../data/ListFilters.txt'",
      "\nDuring handling of the above exception, another exception occurred:\n",
      "\u001b[0;31mUnboundLocalError\u001b[0m                         Traceback (most recent call last)",
      "Input \u001b[0;32mIn [29]\u001b[0m, in \u001b[0;36m<cell line: 8>\u001b[0;34m()\u001b[0m\n\u001b[1;32m      6\u001b[0m \u001b[38;5;66;03m# read filters\u001b[39;00m\n\u001b[1;32m      7\u001b[0m verbose \u001b[38;5;241m=\u001b[39m \u001b[38;5;28;01mTrue\u001b[39;00m\n\u001b[0;32m----> 8\u001b[0m \u001b[43mdatabase_filters\u001b[49m\u001b[38;5;241;43m.\u001b[39;49m\u001b[43mread_filters\u001b[49m\u001b[43m(\u001b[49m\u001b[43m \u001b[49m\u001b[43mverbose\u001b[49m\u001b[38;5;241;43m=\u001b[39;49m\u001b[43mverbose\u001b[49m\u001b[43m \u001b[49m\u001b[43m)\u001b[49m\n",
      "File \u001b[0;32m~/anaconda3/lib/python3.9/site-packages/PyPhotometry/Photometry.py:443\u001b[0m, in \u001b[0;36mcreate_database_filters.read_filters\u001b[0;34m(self, path_data, N_lambda, verbose)\u001b[0m\n\u001b[1;32m    441\u001b[0m path \u001b[38;5;241m=\u001b[39m path_data \u001b[38;5;66;03m#'../../data/'\u001b[39;00m\n\u001b[1;32m    442\u001b[0m arq_fil1 \u001b[38;5;241m=\u001b[39m \u001b[38;5;124m'\u001b[39m\u001b[38;5;124mListFilters.txt\u001b[39m\u001b[38;5;124m'\u001b[39m\n\u001b[0;32m--> 443\u001b[0m \u001b[43mo\u001b[49m\u001b[38;5;241;43m.\u001b[39;49m\u001b[43mReadFilters\u001b[49m\u001b[43m(\u001b[49m\u001b[43m \u001b[49m\u001b[43mpath\u001b[49m\u001b[43m,\u001b[49m\u001b[43marq_fil1\u001b[49m\u001b[43m,\u001b[49m\u001b[43mverbose\u001b[49m\u001b[38;5;241;43m=\u001b[39;49m\u001b[43mverbose\u001b[49m\u001b[43m \u001b[49m\u001b[43m)\u001b[49m\n\u001b[1;32m    445\u001b[0m \u001b[38;5;66;03m# 4 different entry for each filter\u001b[39;00m\n\u001b[1;32m    446\u001b[0m N_entries \u001b[38;5;241m=\u001b[39m \u001b[38;5;28mint\u001b[39m( \u001b[38;5;28mlen\u001b[39m(o\u001b[38;5;241m.\u001b[39mfilters) \u001b[38;5;241m/\u001b[39m \u001b[38;5;241m4\u001b[39m )\n",
      "File \u001b[0;32m~/anaconda3/lib/python3.9/site-packages/PyPhotometry/Photometry.py:939\u001b[0m, in \u001b[0;36mFilters.ReadFilters\u001b[0;34m(self, path, arq_fil1, N_lambda, verbose)\u001b[0m\n\u001b[1;32m    937\u001b[0m \u001b[38;5;28;01mexcept\u001b[39;00m:\n\u001b[1;32m    938\u001b[0m     \u001b[38;5;28mprint\u001b[39m(\u001b[38;5;124m'\u001b[39m\u001b[38;5;124m... Filter List does not exist\u001b[39m\u001b[38;5;124m'\u001b[39m)\n\u001b[0;32m--> 939\u001b[0m     \u001b[43mo_filter\u001b[49m\u001b[38;5;241m.\u001b[39mclose()\n\u001b[1;32m    940\u001b[0m     \u001b[38;5;28;01mreturn\u001b[39;00m\n\u001b[1;32m    942\u001b[0m r_filter \u001b[38;5;241m=\u001b[39m o_filter\u001b[38;5;241m.\u001b[39mreadlines()\n",
      "\u001b[0;31mUnboundLocalError\u001b[0m: local variable 'o_filter' referenced before assignment"
     ]
    }
   ],
   "source": [
    "print(\"... sqlalchemy version: {}\".format(sqlalchemy.__version__))\n",
    "    \n",
    "database_filters = Photometry.create_database_filters()\n",
    "database_filters._filters_class()\n",
    "\n",
    "# read filters\n",
    "verbose = True\n",
    "database_filters.read_filters( verbose=verbose )\n",
    "# print( \"... N_entries: \",len(database_filters.filters)/4 )\n",
    "        \n",
    "# read spectra\n",
    "#database_filters.read_spectra( verbose=verbose ) \n",
    "    \n",
    "# plot\n",
    "#database_filters.plotfilter()    "
   ]
  },
  {
   "cell_type": "code",
   "execution_count": 30,
   "id": "ef0975e4",
   "metadata": {},
   "outputs": [
    {
     "data": {
      "text/plain": [
       "'/home/jean/anaconda3/lib/python3.9/site-packages/PyPhotometry/__init__.py'"
      ]
     },
     "execution_count": 30,
     "metadata": {},
     "output_type": "execute_result"
    }
   ],
   "source": [
    "import PyPhotometry\n",
    "PyPhotometry.__file__"
   ]
  },
  {
   "cell_type": "code",
   "execution_count": 31,
   "id": "cafae125",
   "metadata": {},
   "outputs": [
    {
     "ename": "FileNotFoundError",
     "evalue": "[Errno 2] No such file or directory: '/home/jean/anaconda3/lib/python3.9/site-packages/PyPhotometry/ListFilters.txt'",
     "output_type": "error",
     "traceback": [
      "\u001b[0;31m---------------------------------------------------------------------------\u001b[0m",
      "\u001b[0;31mFileNotFoundError\u001b[0m                         Traceback (most recent call last)",
      "Input \u001b[0;32mIn [31]\u001b[0m, in \u001b[0;36m<cell line: 5>\u001b[0;34m()\u001b[0m\n\u001b[1;32m      3\u001b[0m \u001b[38;5;66;03m# Accessing a specific data file\u001b[39;00m\n\u001b[1;32m      4\u001b[0m file_path \u001b[38;5;241m=\u001b[39m pkg_resources\u001b[38;5;241m.\u001b[39mresource_filename(\u001b[38;5;124m'\u001b[39m\u001b[38;5;124mPyPhotometry\u001b[39m\u001b[38;5;124m'\u001b[39m, \u001b[38;5;124m'\u001b[39m\u001b[38;5;124mListFilters.txt\u001b[39m\u001b[38;5;124m'\u001b[39m)\n\u001b[0;32m----> 5\u001b[0m \u001b[38;5;28;01mwith\u001b[39;00m \u001b[38;5;28;43mopen\u001b[39;49m\u001b[43m(\u001b[49m\u001b[43mfile_path\u001b[49m\u001b[43m,\u001b[49m\u001b[43m \u001b[49m\u001b[38;5;124;43m'\u001b[39;49m\u001b[38;5;124;43mr\u001b[39;49m\u001b[38;5;124;43m'\u001b[39;49m\u001b[43m)\u001b[49m \u001b[38;5;28;01mas\u001b[39;00m file:\n\u001b[1;32m      6\u001b[0m     data \u001b[38;5;241m=\u001b[39m file\u001b[38;5;241m.\u001b[39mread()\n",
      "\u001b[0;31mFileNotFoundError\u001b[0m: [Errno 2] No such file or directory: '/home/jean/anaconda3/lib/python3.9/site-packages/PyPhotometry/ListFilters.txt'"
     ]
    }
   ],
   "source": [
    "import pkg_resources\n",
    "\n",
    "# Accessing a specific data file\n",
    "file_path = pkg_resources.resource_filename('PyPhotometry', 'ListFilters.txt')\n",
    "with open(file_path, 'r') as file:\n",
    "    data = file.read()\n",
    "    # Process the data as needed"
   ]
  },
  {
   "cell_type": "code",
   "execution_count": null,
   "id": "662543d9",
   "metadata": {},
   "outputs": [],
   "source": []
  }
 ],
 "metadata": {
  "kernelspec": {
   "display_name": "Python 3",
   "language": "python",
   "name": "python3"
  },
  "language_info": {
   "codemirror_mode": {
    "name": "ipython",
    "version": 3
   },
   "file_extension": ".py",
   "mimetype": "text/x-python",
   "name": "python",
   "nbconvert_exporter": "python",
   "pygments_lexer": "ipython3",
   "version": "3.9.12"
  }
 },
 "nbformat": 4,
 "nbformat_minor": 5
}
